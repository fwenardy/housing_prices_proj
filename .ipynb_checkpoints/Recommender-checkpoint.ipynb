{
 "cells": [
  {
   "cell_type": "markdown",
   "id": "3d2585e6-255e-4c8f-908e-10179eb052b9",
   "metadata": {},
   "source": [
    "To use: run the following block of code, then scroll down to input your house's parameters."
   ]
  },
  {
   "cell_type": "code",
   "execution_count": null,
   "id": "48bba756-1bcb-4b1c-a877-95ecc338516d",
   "metadata": {},
   "outputs": [
    {
     "name": "stdout",
     "output_type": "stream",
     "text": [
      "Enter the link to your house listing\n"
     ]
    }
   ],
   "source": [
    "import pandas as pd\n",
    "from sklearn.ensemble import RandomForestRegressor\n",
    "from sklearn.model_selection import train_test_split\n",
    "\n",
    "data = pd.read_csv('train_data_cleaned_with_features.csv')\n",
    "X = data.drop(columns = 'price')\n",
    "y = data['price']\n",
    "X_train, X_val, y_train, y_val = train_test_split(X,y, random_state = 1, test_size = 0.2)\n",
    "forest_model = RandomForestRegressor(random_state=1)\n",
    "forest_model.fit(X_train, y_train)\n",
    "\n",
    "def transform(data):\n",
    "    URLFeatures = ['BINTARO', 'SEKTOR', 'BSD', 'JAYA', 'SERPONG', 'LANTAI', 'DEKAT', 'MURAH', 'CITY', 'PAMULANG', 'CIPUTAT']\n",
    "    LocationFeatures = ['bintaro', 'serpong', 'bsd', 'ciputat', 'sektor', 'pamulang', 'pondok', 'raya', 'jaya', 'jl', 'sutera', 'cluster']\n",
    "    \n",
    "    for word in LocationFeatures:\n",
    "        data[word] = data['location'].str.lower().str.contains(word).astype(int)\n",
    "        \n",
    "    for word in URLFeatures:\n",
    "        data[word] = data['url'].str.upper().str.contains(word).astype(int)\n",
    "    \n",
    "    data = data.drop(columns = ['url', 'location'])\n",
    "    return(data)\n",
    "\n",
    "print(\"Enter the link to your house listing\")\n",
    "url = input('URL:')\n",
    "print(\"Enter number of bathrooms\")\n",
    "bath = int(input())\n",
    "print(\"Enter number of bedrooms\")\n",
    "bed = int(input())\n",
    "print(\"Enter the location of your house\")\n",
    "location = input('location:')\n",
    "print(\"Enter the size (floor area) of your house in meters squared\")\n",
    "area = float(input())\n",
    "\n",
    "house = {'url': url, 'location': location, 'bed': bed, 'bath': bath, 'area':area}\n",
    "house_transformed = transform(pd.DataFrame(house, index = [0]))\n",
    "print(\"___________________________________________________________________________________\")\n",
    "\n",
    "test_MAE = 426821771\n",
    "lower_bound = round(forest_model.predict(house_transformed)[0] - test_MAE*0.75)\n",
    "upper_bound = round(forest_model.predict(house_transformed)[0] + test_MAE*0.75)\n",
    "print(\"Range is: Rp \", lower_bound, \" - Rp \", upper_bound)"
   ]
  }
 ],
 "metadata": {
  "kernelspec": {
   "display_name": "Python [conda env:base] *",
   "language": "python",
   "name": "conda-base-py"
  },
  "language_info": {
   "codemirror_mode": {
    "name": "ipython",
    "version": 3
   },
   "file_extension": ".py",
   "mimetype": "text/x-python",
   "name": "python",
   "nbconvert_exporter": "python",
   "pygments_lexer": "ipython3",
   "version": "3.12.7"
  }
 },
 "nbformat": 4,
 "nbformat_minor": 5
}
