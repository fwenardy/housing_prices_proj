{
 "cells": [
  {
   "cell_type": "code",
   "execution_count": 1,
   "id": "9a94b499-a76b-41b3-9c96-3bf283956c2e",
   "metadata": {},
   "outputs": [],
   "source": [
    "import pandas as pd\n",
    "from sklearn.ensemble import RandomForestRegressor\n",
    "from sklearn.metrics import mean_absolute_error\n",
    "from sklearn.metrics import mean_absolute_percentage_error\n",
    "from sklearn.model_selection import train_test_split"
   ]
  },
  {
   "cell_type": "code",
   "execution_count": 2,
   "id": "8ae2220c-4a08-42d8-852d-6886075793f6",
   "metadata": {},
   "outputs": [
    {
     "data": {
      "text/html": [
       "<div>\n",
       "<style scoped>\n",
       "    .dataframe tbody tr th:only-of-type {\n",
       "        vertical-align: middle;\n",
       "    }\n",
       "\n",
       "    .dataframe tbody tr th {\n",
       "        vertical-align: top;\n",
       "    }\n",
       "\n",
       "    .dataframe thead th {\n",
       "        text-align: right;\n",
       "    }\n",
       "</style>\n",
       "<table border=\"1\" class=\"dataframe\">\n",
       "  <thead>\n",
       "    <tr style=\"text-align: right;\">\n",
       "      <th></th>\n",
       "      <th>bed</th>\n",
       "      <th>bath</th>\n",
       "      <th>area</th>\n",
       "      <th>bintaro</th>\n",
       "      <th>serpong</th>\n",
       "      <th>bsd</th>\n",
       "      <th>ciputat</th>\n",
       "      <th>sektor</th>\n",
       "      <th>pamulang</th>\n",
       "      <th>pondok</th>\n",
       "      <th>...</th>\n",
       "      <th>SEKTOR</th>\n",
       "      <th>BSD</th>\n",
       "      <th>JAYA</th>\n",
       "      <th>SERPONG</th>\n",
       "      <th>LANTAI</th>\n",
       "      <th>DEKAT</th>\n",
       "      <th>MURAH</th>\n",
       "      <th>CITY</th>\n",
       "      <th>PAMULANG</th>\n",
       "      <th>CIPUTAT</th>\n",
       "    </tr>\n",
       "  </thead>\n",
       "  <tbody>\n",
       "    <tr>\n",
       "      <th>18941</th>\n",
       "      <td>3.0</td>\n",
       "      <td>3.0</td>\n",
       "      <td>105</td>\n",
       "      <td>1</td>\n",
       "      <td>0</td>\n",
       "      <td>0</td>\n",
       "      <td>0</td>\n",
       "      <td>1</td>\n",
       "      <td>0</td>\n",
       "      <td>1</td>\n",
       "      <td>...</td>\n",
       "      <td>1</td>\n",
       "      <td>0</td>\n",
       "      <td>0</td>\n",
       "      <td>0</td>\n",
       "      <td>0</td>\n",
       "      <td>0</td>\n",
       "      <td>0</td>\n",
       "      <td>0</td>\n",
       "      <td>0</td>\n",
       "      <td>0</td>\n",
       "    </tr>\n",
       "    <tr>\n",
       "      <th>6901</th>\n",
       "      <td>2.0</td>\n",
       "      <td>2.0</td>\n",
       "      <td>63</td>\n",
       "      <td>1</td>\n",
       "      <td>1</td>\n",
       "      <td>0</td>\n",
       "      <td>0</td>\n",
       "      <td>0</td>\n",
       "      <td>0</td>\n",
       "      <td>0</td>\n",
       "      <td>...</td>\n",
       "      <td>0</td>\n",
       "      <td>0</td>\n",
       "      <td>0</td>\n",
       "      <td>0</td>\n",
       "      <td>0</td>\n",
       "      <td>0</td>\n",
       "      <td>0</td>\n",
       "      <td>0</td>\n",
       "      <td>0</td>\n",
       "      <td>0</td>\n",
       "    </tr>\n",
       "    <tr>\n",
       "      <th>9914</th>\n",
       "      <td>2.0</td>\n",
       "      <td>2.0</td>\n",
       "      <td>68</td>\n",
       "      <td>0</td>\n",
       "      <td>0</td>\n",
       "      <td>0</td>\n",
       "      <td>1</td>\n",
       "      <td>0</td>\n",
       "      <td>0</td>\n",
       "      <td>0</td>\n",
       "      <td>...</td>\n",
       "      <td>0</td>\n",
       "      <td>0</td>\n",
       "      <td>0</td>\n",
       "      <td>0</td>\n",
       "      <td>0</td>\n",
       "      <td>0</td>\n",
       "      <td>0</td>\n",
       "      <td>0</td>\n",
       "      <td>0</td>\n",
       "      <td>0</td>\n",
       "    </tr>\n",
       "    <tr>\n",
       "      <th>9316</th>\n",
       "      <td>5.0</td>\n",
       "      <td>5.0</td>\n",
       "      <td>500</td>\n",
       "      <td>1</td>\n",
       "      <td>0</td>\n",
       "      <td>0</td>\n",
       "      <td>0</td>\n",
       "      <td>0</td>\n",
       "      <td>0</td>\n",
       "      <td>0</td>\n",
       "      <td>...</td>\n",
       "      <td>0</td>\n",
       "      <td>0</td>\n",
       "      <td>0</td>\n",
       "      <td>0</td>\n",
       "      <td>0</td>\n",
       "      <td>0</td>\n",
       "      <td>0</td>\n",
       "      <td>0</td>\n",
       "      <td>0</td>\n",
       "      <td>0</td>\n",
       "    </tr>\n",
       "    <tr>\n",
       "      <th>9197</th>\n",
       "      <td>4.0</td>\n",
       "      <td>3.0</td>\n",
       "      <td>219</td>\n",
       "      <td>1</td>\n",
       "      <td>0</td>\n",
       "      <td>0</td>\n",
       "      <td>0</td>\n",
       "      <td>1</td>\n",
       "      <td>0</td>\n",
       "      <td>0</td>\n",
       "      <td>...</td>\n",
       "      <td>1</td>\n",
       "      <td>0</td>\n",
       "      <td>0</td>\n",
       "      <td>0</td>\n",
       "      <td>0</td>\n",
       "      <td>0</td>\n",
       "      <td>0</td>\n",
       "      <td>0</td>\n",
       "      <td>0</td>\n",
       "      <td>0</td>\n",
       "    </tr>\n",
       "  </tbody>\n",
       "</table>\n",
       "<p>5 rows × 26 columns</p>\n",
       "</div>"
      ],
      "text/plain": [
       "       bed  bath  area  bintaro  serpong  bsd  ciputat  sektor  pamulang  \\\n",
       "18941  3.0   3.0   105        1        0    0        0       1         0   \n",
       "6901   2.0   2.0    63        1        1    0        0       0         0   \n",
       "9914   2.0   2.0    68        0        0    0        1       0         0   \n",
       "9316   5.0   5.0   500        1        0    0        0       0         0   \n",
       "9197   4.0   3.0   219        1        0    0        0       1         0   \n",
       "\n",
       "       pondok  ...  SEKTOR  BSD  JAYA  SERPONG  LANTAI  DEKAT  MURAH  CITY  \\\n",
       "18941       1  ...       1    0     0        0       0      0      0     0   \n",
       "6901        0  ...       0    0     0        0       0      0      0     0   \n",
       "9914        0  ...       0    0     0        0       0      0      0     0   \n",
       "9316        0  ...       0    0     0        0       0      0      0     0   \n",
       "9197        0  ...       1    0     0        0       0      0      0     0   \n",
       "\n",
       "       PAMULANG  CIPUTAT  \n",
       "18941         0        0  \n",
       "6901          0        0  \n",
       "9914          0        0  \n",
       "9316          0        0  \n",
       "9197          0        0  \n",
       "\n",
       "[5 rows x 26 columns]"
      ]
     },
     "execution_count": 2,
     "metadata": {},
     "output_type": "execute_result"
    }
   ],
   "source": [
    "data = pd.read_csv('train_data_cleaned_with_features.csv')\n",
    "X = data.drop(columns = 'price')\n",
    "y = data['price']\n",
    "\n",
    "X_train, X_val, y_train, y_val = train_test_split(X,y, random_state = 1, test_size = 0.2)\n",
    "X_train.head()"
   ]
  },
  {
   "cell_type": "code",
   "execution_count": 3,
   "id": "1e72b8dd-0536-4b81-b1c7-63acd4d5eda2",
   "metadata": {},
   "outputs": [
    {
     "name": "stdout",
     "output_type": "stream",
     "text": [
      "validation MAE:  741573574\n"
     ]
    }
   ],
   "source": [
    "forest_model = RandomForestRegressor(random_state=1)\n",
    "forest_model.fit(X_train, y_train)\n",
    "predictions = forest_model.predict(X_val)\n",
    "print(\"validation MAE: \", round(mean_absolute_error(y_val, predictions)))"
   ]
  },
  {
   "cell_type": "code",
   "execution_count": 4,
   "id": "b30ff914-1f1b-487c-8087-d7871e37fc61",
   "metadata": {},
   "outputs": [
    {
     "name": "stdout",
     "output_type": "stream",
     "text": [
      "test MAE:  426821771\n"
     ]
    }
   ],
   "source": [
    "test_data = pd.read_csv('test_data_cleaned_with_features.csv')\n",
    "X_test = test_data.drop(columns = 'price')\n",
    "y_test = test_data['price']\n",
    "preds = forest_model.predict(X_test)\n",
    "print(\"test MAE: \", round(mean_absolute_error(y_test, preds)))"
   ]
  },
  {
   "cell_type": "code",
   "execution_count": 5,
   "id": "e19f5577-22fd-4c2f-9198-315a36b60961",
   "metadata": {},
   "outputs": [
    {
     "name": "stdout",
     "output_type": "stream",
     "text": [
      "test Mean Absolute Prediction Error: 26 %\n"
     ]
    }
   ],
   "source": [
    "MAPE = round(100*mean_absolute_percentage_error(y_test,preds))\n",
    "print(\"test Mean Absolute Prediction Error:\", MAPE, \"%\")"
   ]
  },
  {
   "cell_type": "markdown",
   "id": "35961203-b6fb-40a7-b776-ce2ab70920c8",
   "metadata": {},
   "source": [
    "I'd also like to see how the model performs without the dummy variables."
   ]
  },
  {
   "cell_type": "code",
   "execution_count": 7,
   "id": "7fb799d8-0aef-47be-91ac-0df83f46615f",
   "metadata": {},
   "outputs": [
    {
     "data": {
      "text/html": [
       "<div>\n",
       "<style scoped>\n",
       "    .dataframe tbody tr th:only-of-type {\n",
       "        vertical-align: middle;\n",
       "    }\n",
       "\n",
       "    .dataframe tbody tr th {\n",
       "        vertical-align: top;\n",
       "    }\n",
       "\n",
       "    .dataframe thead th {\n",
       "        text-align: right;\n",
       "    }\n",
       "</style>\n",
       "<table border=\"1\" class=\"dataframe\">\n",
       "  <thead>\n",
       "    <tr style=\"text-align: right;\">\n",
       "      <th></th>\n",
       "      <th>bed</th>\n",
       "      <th>bath</th>\n",
       "      <th>area</th>\n",
       "    </tr>\n",
       "  </thead>\n",
       "  <tbody>\n",
       "    <tr>\n",
       "      <th>18941</th>\n",
       "      <td>3.0</td>\n",
       "      <td>3.0</td>\n",
       "      <td>105</td>\n",
       "    </tr>\n",
       "    <tr>\n",
       "      <th>6901</th>\n",
       "      <td>2.0</td>\n",
       "      <td>2.0</td>\n",
       "      <td>63</td>\n",
       "    </tr>\n",
       "    <tr>\n",
       "      <th>9914</th>\n",
       "      <td>2.0</td>\n",
       "      <td>2.0</td>\n",
       "      <td>68</td>\n",
       "    </tr>\n",
       "    <tr>\n",
       "      <th>9316</th>\n",
       "      <td>5.0</td>\n",
       "      <td>5.0</td>\n",
       "      <td>500</td>\n",
       "    </tr>\n",
       "    <tr>\n",
       "      <th>9197</th>\n",
       "      <td>4.0</td>\n",
       "      <td>3.0</td>\n",
       "      <td>219</td>\n",
       "    </tr>\n",
       "  </tbody>\n",
       "</table>\n",
       "</div>"
      ],
      "text/plain": [
       "       bed  bath  area\n",
       "18941  3.0   3.0   105\n",
       "6901   2.0   2.0    63\n",
       "9914   2.0   2.0    68\n",
       "9316   5.0   5.0   500\n",
       "9197   4.0   3.0   219"
      ]
     },
     "execution_count": 7,
     "metadata": {},
     "output_type": "execute_result"
    }
   ],
   "source": [
    "X = data[['bed','bath','area']]\n",
    "y = data['price']\n",
    "\n",
    "X_train, X_val, y_train, y_val = train_test_split(X,y, random_state = 1, test_size = 0.2)\n",
    "X_train.head()"
   ]
  },
  {
   "cell_type": "code",
   "execution_count": 8,
   "id": "4b9c6a12-c813-4dc2-a674-d734c1842cc4",
   "metadata": {},
   "outputs": [
    {
     "name": "stdout",
     "output_type": "stream",
     "text": [
      "validation MAE:  814923853\n"
     ]
    }
   ],
   "source": [
    "new_forest_model = RandomForestRegressor(random_state=1)\n",
    "new_forest_model.fit(X_train, y_train)\n",
    "predictions = new_forest_model.predict(X_val)\n",
    "\n",
    "print(\"validation MAE: \", round(mean_absolute_error(y_val, predictions)))"
   ]
  },
  {
   "cell_type": "code",
   "execution_count": 9,
   "id": "80302953-53ab-4af6-9ddf-29db9fbab1ef",
   "metadata": {},
   "outputs": [
    {
     "name": "stdout",
     "output_type": "stream",
     "text": [
      "test MAE:  682260192\n"
     ]
    }
   ],
   "source": [
    "X_test = test_data[['bed','bath','area']]\n",
    "y_test = test_data['price']\n",
    "preds = new_forest_model.predict(X_test)\n",
    "\n",
    "print(\"test MAE: \", round(mean_absolute_error(y_test, preds)))"
   ]
  },
  {
   "cell_type": "markdown",
   "id": "2039f771-daed-436d-a373-c5019621fc91",
   "metadata": {},
   "source": [
    "Which means our dummy variables brought down the MAE by (682260192 - 426821771)/682260192 = 37%"
   ]
  }
 ],
 "metadata": {
  "kernelspec": {
   "display_name": "Python [conda env:base] *",
   "language": "python",
   "name": "conda-base-py"
  },
  "language_info": {
   "codemirror_mode": {
    "name": "ipython",
    "version": 3
   },
   "file_extension": ".py",
   "mimetype": "text/x-python",
   "name": "python",
   "nbconvert_exporter": "python",
   "pygments_lexer": "ipython3",
   "version": "3.12.7"
  }
 },
 "nbformat": 4,
 "nbformat_minor": 5
}
