{
 "cells": [
  {
   "cell_type": "code",
   "execution_count": 1,
   "id": "9a94b499-a76b-41b3-9c96-3bf283956c2e",
   "metadata": {},
   "outputs": [],
   "source": [
    "import pandas as pd\n",
    "from sklearn.ensemble import RandomForestRegressor\n",
    "from sklearn.metrics import mean_absolute_error\n",
    "from sklearn.linear_model import LinearRegression\n",
    "from sklearn.model_selection import train_test_split"
   ]
  },
  {
   "cell_type": "code",
   "execution_count": 2,
   "id": "8ae2220c-4a08-42d8-852d-6886075793f6",
   "metadata": {},
   "outputs": [
    {
     "data": {
      "text/html": [
       "<div>\n",
       "<style scoped>\n",
       "    .dataframe tbody tr th:only-of-type {\n",
       "        vertical-align: middle;\n",
       "    }\n",
       "\n",
       "    .dataframe tbody tr th {\n",
       "        vertical-align: top;\n",
       "    }\n",
       "\n",
       "    .dataframe thead th {\n",
       "        text-align: right;\n",
       "    }\n",
       "</style>\n",
       "<table border=\"1\" class=\"dataframe\">\n",
       "  <thead>\n",
       "    <tr style=\"text-align: right;\">\n",
       "      <th></th>\n",
       "      <th>bed</th>\n",
       "      <th>bath</th>\n",
       "      <th>area</th>\n",
       "      <th>bintaro</th>\n",
       "      <th>ciputat</th>\n",
       "      <th>pamulang</th>\n",
       "      <th>raya</th>\n",
       "      <th>jl</th>\n",
       "      <th>sutera</th>\n",
       "      <th>cluster</th>\n",
       "      <th>SEKTOR</th>\n",
       "      <th>JAYA</th>\n",
       "      <th>SERPONG</th>\n",
       "      <th>LANTAI</th>\n",
       "      <th>DEKAT</th>\n",
       "      <th>MURAH</th>\n",
       "    </tr>\n",
       "  </thead>\n",
       "  <tbody>\n",
       "    <tr>\n",
       "      <th>18941</th>\n",
       "      <td>3.0</td>\n",
       "      <td>3.0</td>\n",
       "      <td>105</td>\n",
       "      <td>1</td>\n",
       "      <td>0</td>\n",
       "      <td>0</td>\n",
       "      <td>0</td>\n",
       "      <td>0</td>\n",
       "      <td>0</td>\n",
       "      <td>0</td>\n",
       "      <td>1</td>\n",
       "      <td>0</td>\n",
       "      <td>0</td>\n",
       "      <td>0</td>\n",
       "      <td>0</td>\n",
       "      <td>0</td>\n",
       "    </tr>\n",
       "    <tr>\n",
       "      <th>6901</th>\n",
       "      <td>2.0</td>\n",
       "      <td>2.0</td>\n",
       "      <td>63</td>\n",
       "      <td>1</td>\n",
       "      <td>0</td>\n",
       "      <td>0</td>\n",
       "      <td>0</td>\n",
       "      <td>0</td>\n",
       "      <td>0</td>\n",
       "      <td>0</td>\n",
       "      <td>0</td>\n",
       "      <td>0</td>\n",
       "      <td>0</td>\n",
       "      <td>0</td>\n",
       "      <td>0</td>\n",
       "      <td>0</td>\n",
       "    </tr>\n",
       "    <tr>\n",
       "      <th>9914</th>\n",
       "      <td>2.0</td>\n",
       "      <td>2.0</td>\n",
       "      <td>68</td>\n",
       "      <td>0</td>\n",
       "      <td>1</td>\n",
       "      <td>0</td>\n",
       "      <td>1</td>\n",
       "      <td>0</td>\n",
       "      <td>0</td>\n",
       "      <td>0</td>\n",
       "      <td>0</td>\n",
       "      <td>0</td>\n",
       "      <td>0</td>\n",
       "      <td>0</td>\n",
       "      <td>0</td>\n",
       "      <td>0</td>\n",
       "    </tr>\n",
       "    <tr>\n",
       "      <th>9316</th>\n",
       "      <td>5.0</td>\n",
       "      <td>5.0</td>\n",
       "      <td>500</td>\n",
       "      <td>1</td>\n",
       "      <td>0</td>\n",
       "      <td>0</td>\n",
       "      <td>0</td>\n",
       "      <td>0</td>\n",
       "      <td>0</td>\n",
       "      <td>0</td>\n",
       "      <td>0</td>\n",
       "      <td>0</td>\n",
       "      <td>0</td>\n",
       "      <td>0</td>\n",
       "      <td>0</td>\n",
       "      <td>0</td>\n",
       "    </tr>\n",
       "    <tr>\n",
       "      <th>9197</th>\n",
       "      <td>4.0</td>\n",
       "      <td>3.0</td>\n",
       "      <td>219</td>\n",
       "      <td>1</td>\n",
       "      <td>0</td>\n",
       "      <td>0</td>\n",
       "      <td>0</td>\n",
       "      <td>0</td>\n",
       "      <td>0</td>\n",
       "      <td>0</td>\n",
       "      <td>1</td>\n",
       "      <td>0</td>\n",
       "      <td>0</td>\n",
       "      <td>0</td>\n",
       "      <td>0</td>\n",
       "      <td>0</td>\n",
       "    </tr>\n",
       "  </tbody>\n",
       "</table>\n",
       "</div>"
      ],
      "text/plain": [
       "       bed  bath  area  bintaro  ciputat  pamulang  raya  jl  sutera  cluster  \\\n",
       "18941  3.0   3.0   105        1        0         0     0   0       0        0   \n",
       "6901   2.0   2.0    63        1        0         0     0   0       0        0   \n",
       "9914   2.0   2.0    68        0        1         0     1   0       0        0   \n",
       "9316   5.0   5.0   500        1        0         0     0   0       0        0   \n",
       "9197   4.0   3.0   219        1        0         0     0   0       0        0   \n",
       "\n",
       "       SEKTOR  JAYA  SERPONG  LANTAI  DEKAT  MURAH  \n",
       "18941       1     0        0       0      0      0  \n",
       "6901        0     0        0       0      0      0  \n",
       "9914        0     0        0       0      0      0  \n",
       "9316        0     0        0       0      0      0  \n",
       "9197        1     0        0       0      0      0  "
      ]
     },
     "execution_count": 2,
     "metadata": {},
     "output_type": "execute_result"
    }
   ],
   "source": [
    "data = pd.read_csv('train_data_cleaned_with_features.csv')\n",
    "X = data.drop(columns = 'price')\n",
    "y = data['price']\n",
    "\n",
    "X_train, X_val, y_train, y_val = train_test_split(X,y, random_state = 1, test_size = 0.2)\n",
    "X_train.head()"
   ]
  },
  {
   "cell_type": "code",
   "execution_count": 3,
   "id": "1e72b8dd-0536-4b81-b1c7-63acd4d5eda2",
   "metadata": {},
   "outputs": [
    {
     "name": "stdout",
     "output_type": "stream",
     "text": [
      "MAE:  738055230.0601163\n",
      "mean of actual values: 3247638048.785488\n"
     ]
    }
   ],
   "source": [
    "forest_model = RandomForestRegressor(random_state=1)\n",
    "forest_model.fit(X_train, y_train)\n",
    "predictions = forest_model.predict(X_val)\n",
    "print(\"MAE: \", mean_absolute_error(y_val, predictions))\n",
    "print(\"mean of actual values:\", y_val.mean())"
   ]
  },
  {
   "cell_type": "code",
   "execution_count": 4,
   "id": "790b33c9-edca-41be-8a7f-8030af4d42a2",
   "metadata": {},
   "outputs": [
    {
     "name": "stdout",
     "output_type": "stream",
     "text": [
      "Mean Absolute Prediction Error: 23 %\n"
     ]
    }
   ],
   "source": [
    "MAPE = round(100*(mean_absolute_error(y_val, predictions)/y_val.mean()))\n",
    "print(\"Mean Absolute Prediction Error:\", MAPE, \"%\")"
   ]
  },
  {
   "cell_type": "code",
   "execution_count": 5,
   "id": "b30ff914-1f1b-487c-8087-d7871e37fc61",
   "metadata": {},
   "outputs": [
    {
     "name": "stdout",
     "output_type": "stream",
     "text": [
      "MAE:  475850073.47283137\n"
     ]
    }
   ],
   "source": [
    "test_data = pd.read_csv('test_data_cleaned_with_features.csv')\n",
    "X_test = test_data.drop(columns = 'price')\n",
    "y_test = test_data['price']\n",
    "preds = forest_model.predict(X_test)\n",
    "print(\"MAE: \", mean_absolute_error(y_test, preds))"
   ]
  },
  {
   "cell_type": "code",
   "execution_count": 14,
   "id": "e19f5577-22fd-4c2f-9198-315a36b60961",
   "metadata": {},
   "outputs": [
    {
     "name": "stdout",
     "output_type": "stream",
     "text": [
      "mean of actual values: 3268954510.291176\n",
      "Mean Absolute Prediction Error: 15 %\n"
     ]
    }
   ],
   "source": [
    "print(\"mean of actual values:\", y_test.mean())\n",
    "MAPE = round(100* mean_absolute_error(y_test, preds)/y_test.mean())\n",
    "print(\"Mean Absolute Prediction Error:\", MAPE, \"%\")"
   ]
  }
 ],
 "metadata": {
  "kernelspec": {
   "display_name": "Python [conda env:base] *",
   "language": "python",
   "name": "conda-base-py"
  },
  "language_info": {
   "codemirror_mode": {
    "name": "ipython",
    "version": 3
   },
   "file_extension": ".py",
   "mimetype": "text/x-python",
   "name": "python",
   "nbconvert_exporter": "python",
   "pygments_lexer": "ipython3",
   "version": "3.12.7"
  }
 },
 "nbformat": 4,
 "nbformat_minor": 5
}
